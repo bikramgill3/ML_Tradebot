{
 "cells": [
  {
   "cell_type": "markdown",
   "id": "d9a53ae0",
   "metadata": {},
   "source": [
    "#### XGBOOST"
   ]
  },
  {
   "cell_type": "code",
   "execution_count": 1,
   "id": "e3fb4629",
   "metadata": {},
   "outputs": [],
   "source": [
    "import matplotlib.pyplot as plt\n",
    "import matplotlib.pylab as pylab\n",
    "import numpy as np\n",
    "import pandas as pd\n",
    "import seaborn as sns\n",
    "import statsmodels.api as sm\n",
    "from sklearn.metrics import accuracy_score, balanced_accuracy_score, classification_report, confusion_matrix, f1_score, recall_score\n",
    "from sklearn.model_selection import train_test_split\n",
    "from xgboost import XGBClassifier\n",
    "from sklearn.preprocessing import LabelEncoder \n",
    "import pickle"
   ]
  },
  {
   "cell_type": "code",
   "execution_count": 17,
   "id": "85e96d49",
   "metadata": {},
   "outputs": [],
   "source": [
    "model = \"XGBoost\"\n",
    "start_date = '2020-01-01'\n",
    "end_date = '2021-10-01'\n",
    "symbol = \"BTCUSDT\"\n",
    "interval = \"1h\"\n",
    "filepath = \"/Users/bikramgill/Library/CloudStorage/GoogleDrive-bgill@sandiego.edu/My Drive/Masters of Applied Data Sciences/2022 - 3 - Fall/ADS599 - Capstone Project/Tradebot/ML_Tradebot/Production/\"\n",
    "\n",
    "def test_train_data(model, start_date, end_date, symbol, interval, filepath):\n",
    "    \n",
    "    ## Load df and cut down to start and end period defined\n",
    "    df = pd.read_csv(filepath + \"Datasets/{}_{}.csv\".format(symbol, interval),\n",
    "                parse_dates = ['close_time']).dropna()\n",
    "    df = df.loc[(df['close_time']>=start_date) & (df['close_time']<=end_date)]\n",
    "    \n",
    "    \n",
    "    ## Define feature and target columns for X and y\n",
    "    feature_cols = ['SMA50', 'SMA100', 'SMA200', 'RSI', 'Close_to_Open', 'Close_to_High', 'Close_to_Low', 'Volume_Momentum', 'Trade_Count_Momentum']\n",
    "    target_col = ['next_two_candles']\n",
    "    X = df[feature_cols]\n",
    "    y = df[target_col]\n",
    "    \n",
    "    ## Convert text labels with LabelEncoder\n",
    "    lc = LabelEncoder()\n",
    "    print(y)\n",
    "    y = lc.fit_transform(y)\n",
    "    print(y)\n",
    "    \n",
    "    ## Conduct test train split\n",
    "    X_train, X_test, y_train, y_test = train_test_split(X, y, test_size = 0.2, random_state = 42, stratify = y)\n",
    "    \n",
    "    return X_train, X_test, y_train, y_test\n"
   ]
  },
  {
   "cell_type": "code",
   "execution_count": 18,
   "id": "cf69c6c6",
   "metadata": {},
   "outputs": [
    {
     "name": "stdout",
     "output_type": "stream",
     "text": [
      "      next_two_candles\n",
      "20512             Down\n",
      "20513             Down\n",
      "20514          Neutral\n",
      "20515          Neutral\n",
      "20516          Neutral\n",
      "...                ...\n",
      "35811          Neutral\n",
      "35812          Neutral\n",
      "35813          Neutral\n",
      "35814          Neutral\n",
      "35815               Up\n",
      "\n",
      "[15304 rows x 1 columns]\n",
      "[0 0 1 ... 1 1 2]\n"
     ]
    },
    {
     "name": "stderr",
     "output_type": "stream",
     "text": [
      "/Users/bikramgill/opt/miniconda3/envs/spyder-env/lib/python3.9/site-packages/sklearn/utils/validation.py:63: DataConversionWarning:\n",
      "\n",
      "A column-vector y was passed when a 1d array was expected. Please change the shape of y to (n_samples, ), for example using ravel().\n",
      "\n"
     ]
    }
   ],
   "source": [
    "X_train, X_test, y_train, y_test = test_train_data(model, start_date, end_date, symbol, interval, filepath)"
   ]
  },
  {
   "cell_type": "code",
   "execution_count": 16,
   "id": "aa10bacf",
   "metadata": {},
   "outputs": [
    {
     "ename": "NameError",
     "evalue": "name 'lc' is not defined",
     "output_type": "error",
     "traceback": [
      "\u001b[0;31m---------------------------------------------------------------------------\u001b[0m",
      "\u001b[0;31mNameError\u001b[0m                                 Traceback (most recent call last)",
      "\u001b[0;32m/var/folders/7w/q4x22cwn3zxb53k5sll6nzf40000gn/T/ipykernel_88449/3667581110.py\u001b[0m in \u001b[0;36m<module>\u001b[0;34m\u001b[0m\n\u001b[0;32m----> 1\u001b[0;31m \u001b[0mlc\u001b[0m\u001b[0;34m\u001b[0m\u001b[0;34m\u001b[0m\u001b[0m\n\u001b[0m",
      "\u001b[0;31mNameError\u001b[0m: name 'lc' is not defined"
     ]
    }
   ],
   "source": [
    "lc"
   ]
  },
  {
   "cell_type": "code",
   "execution_count": 4,
   "id": "a971a5c5",
   "metadata": {},
   "outputs": [],
   "source": [
    "def fit_and_pickle_model(model, start_date, end_date, symbol, interval, filepath,\n",
    "                         X_train, X_test, y_train, y_test):\n",
    "    xgboost = XGBClassifier(random_state=1,\n",
    "                            booster='gbtree',\n",
    "                            learning_rate=0.1,\n",
    "                            max_depth=5,\n",
    "                            objective='multi:softmax')\n",
    "\n",
    "    xg_boost = xgboost.fit(X_train,y_train)\n",
    "    \n",
    "    with open((filepath + 'Models/{}/XGBoost_{}_{}.pickle'.format(model, symbol, interval)), 'wb') as model:\n",
    "        pickle.dump(xg_boost, model, protocol=pickle.HIGHEST_PROTOCOL)\n",
    "        \n",
    "    print(\"Model has been updated and saved as pickle file\")"
   ]
  },
  {
   "cell_type": "code",
   "execution_count": 5,
   "id": "a12bc8d2",
   "metadata": {},
   "outputs": [
    {
     "name": "stdout",
     "output_type": "stream",
     "text": [
      "Model has been updated and saved as pickle file\n"
     ]
    }
   ],
   "source": [
    "fit_and_pickle_model(model, start_date, end_date, symbol, interval, filepath,\n",
    "                         X_train, X_test, y_train, y_test)"
   ]
  },
  {
   "cell_type": "code",
   "execution_count": 6,
   "id": "51363012",
   "metadata": {},
   "outputs": [],
   "source": [
    "with open((filepath + 'Models/{}/XGBoost_{}_{}.pickle'.format(model, symbol, interval)), 'rb') as model:\n",
    "    xg_boost = pickle.load(model)\n",
    "    \n"
   ]
  },
  {
   "cell_type": "code",
   "execution_count": 7,
   "id": "2cb70de0",
   "metadata": {},
   "outputs": [
    {
     "data": {
      "text/plain": [
       "<AxesSubplot:>"
      ]
     },
     "execution_count": 7,
     "metadata": {},
     "output_type": "execute_result"
    },
    {
     "data": {
      "image/png": "[encoded data removed]",
      "text/plain": [
       "<Figure size 640x480 with 1 Axes>"
      ]
     },
     "metadata": {},
     "output_type": "display_data"
    }
   ],
   "source": [
    "sns.heatmap(confusion_matrix(y_test, xg_boost.predict(X_test)), cmap='YlGnBu', annot=True, xticklabels=[0,1,2], yticklabels=[0,1,2], cbar=False,fmt='g')"
   ]
  },
  {
   "cell_type": "markdown",
   "id": "e8b63ce9",
   "metadata": {},
   "source": [
    "#### KNN\n",
    "\n"
   ]
  },
  {
   "cell_type": "code",
   "execution_count": 8,
   "id": "f682f6d8",
   "metadata": {},
   "outputs": [],
   "source": [
    "model = \"KNN\"\n",
    "start_date = '2020-01-01'\n",
    "end_date = '2021-10-01'\n",
    "symbol = \"BTCUSDT\"\n",
    "interval = \"1h\"\n",
    "filepath = \"/Users/bikramgill/Library/CloudStorage/GoogleDrive-bgill@sandiego.edu/My Drive/Masters of Applied Data Sciences/2022 - 3 - Fall/ADS599 - Capstone Project/Tradebot/ML_Tradebot/Production/\"\n",
    "\n",
    "\n",
    "from sklearn.neighbors import KNeighborsClassifier"
   ]
  },
  {
   "cell_type": "code",
   "execution_count": 9,
   "id": "99c0a165",
   "metadata": {},
   "outputs": [],
   "source": [
    "def calibrate_knn(model, start_date, end_date, symbol, interval, filepath,\n",
    "                         X_train, X_test, y_train, y_test):\n",
    "\n",
    "    results = []\n",
    "\n",
    "    for n_neighbors in range(1, 20):\n",
    "        knn = KNeighborsClassifier(n_neighbors=n_neighbors).fit(X_train, y_train)\n",
    "        preds = knn.predict(X_test)\n",
    "        results.append({'n_neighbors': n_neighbors,\n",
    "                        'accuracy': accuracy_score(y_test, preds),\n",
    "                        'F1':f1_score(y_test, preds, average='macro')\n",
    "                        })\n",
    "    # Convert results to a pandas data frame results = pd.DataFrame(results) print(results)\n",
    "    results = pd.DataFrame(results)\n",
    "    results = results.sort_values(by='F1', ascending=False)\n",
    "    \n",
    "    print(results)\n",
    "    \n",
    "    n_neighbors = int(results.loc[results['F1'].idxmax()]['n_neighbors'])\n",
    "    \n",
    "    knn = KNeighborsClassifier(n_neighbors=n_neighbors).fit(X_train, y_train)\n",
    "\n",
    "    with open((filepath + 'Models/{}/KNN_{}_{}.pickle'.format(model, symbol, interval)), 'wb') as model:\n",
    "        pickle.dump(knn, model, protocol=pickle.HIGHEST_PROTOCOL)\n",
    "        \n",
    "    print(\"Model has been updated and saved as pickle file\")"
   ]
  },
  {
   "cell_type": "code",
   "execution_count": 10,
   "id": "f0338aaa",
   "metadata": {},
   "outputs": [
    {
     "name": "stdout",
     "output_type": "stream",
     "text": [
      "    n_neighbors  accuracy        F1\n",
      "2             3  0.417837  0.347992\n",
      "0             1  0.396929  0.338509\n",
      "3             4  0.432865  0.335444\n",
      "5             6  0.443319  0.331791\n",
      "6             7  0.459327  0.324430\n",
      "4             5  0.429271  0.321816\n",
      "1             2  0.398889  0.317412\n",
      "7             8  0.458674  0.311437\n",
      "8             9  0.458020  0.310936\n",
      "10           11  0.480235  0.303788\n",
      "12           13  0.489056  0.302051\n",
      "9            10  0.470434  0.301996\n",
      "11           12  0.476315  0.298475\n",
      "13           14  0.488729  0.295168\n",
      "14           15  0.488402  0.295024\n",
      "15           16  0.493630  0.288559\n",
      "16           17  0.491669  0.280629\n",
      "17           18  0.495590  0.280278\n",
      "18           19  0.498530  0.273533\n",
      "Model has been updated and saved as pickle file\n"
     ]
    }
   ],
   "source": [
    "calibrate_knn(model, start_date, end_date, symbol, interval, filepath,\n",
    "                         X_train, X_test, y_train, y_test)"
   ]
  },
  {
   "cell_type": "code",
   "execution_count": 11,
   "id": "41dcfca6",
   "metadata": {},
   "outputs": [],
   "source": [
    "with open((filepath + 'Models/{}/KNN_{}_{}.pickle'.format(model, symbol, interval)), 'rb') as model:\n",
    "    knn = pickle.load(model)"
   ]
  },
  {
   "cell_type": "code",
   "execution_count": 12,
   "id": "7084d81b",
   "metadata": {},
   "outputs": [
    {
     "data": {
      "text/plain": [
       "<AxesSubplot:>"
      ]
     },
     "execution_count": 12,
     "metadata": {},
     "output_type": "execute_result"
    },
    {
     "data": {
      "image/png": "[encoded data removed]",
      "text/plain": [
       "<Figure size 640x480 with 1 Axes>"
      ]
     },
     "metadata": {},
     "output_type": "display_data"
    }
   ],
   "source": [
    "sns.heatmap(confusion_matrix(y_test, knn.predict(X_test)), cmap='YlGnBu', annot=True, xticklabels=[0,1,2], yticklabels=[0,1,2], cbar=False,fmt='g')"
   ]
  },
  {
   "cell_type": "code",
   "execution_count": 20,
   "id": "cf2feb16",
   "metadata": {},
   "outputs": [
    {
     "data": {
      "text/plain": [
       "array([[205, 368, 101],\n",
       "       [441, 941, 242],\n",
       "       [207, 423, 133]])"
      ]
     },
     "execution_count": 20,
     "metadata": {},
     "output_type": "execute_result"
    }
   ],
   "source": [
    "confusion_matrix(y_test, knn.predict(X_test))"
   ]
  },
  {
   "cell_type": "code",
   "execution_count": 36,
   "id": "267959d7",
   "metadata": {},
   "outputs": [
    {
     "data": {
      "application/vnd.plotly.v1+json": {
       "config": {
        "plotlyServerURL": "https://plot.ly"
       },
       "data": [
        {
         "coloraxis": "coloraxis",
         "hovertemplate": "Predicted Values: %{x}<br>Actual Values: %{y}<br>color: %{z}<extra></extra>",
         "name": "0",
         "texttemplate": "%{z}",
         "type": "heatmap",
         "x": [
          "Zero",
          "One",
          "Two"
         ],
         "xaxis": "x",
         "y": [
          "Zero",
          "One",
          "Two"
         ],
         "yaxis": "y",
         "z": [
          [
           205,
           368,
           101
          ],
          [
           441,
           941,
           242
          ],
          [
           207,
           423,
           133
          ]
         ]
        }
       ],
       "layout": {
        "coloraxis": {
         "colorscale": [
          [
           0,
           "#0d0887"
          ],
          [
           0.1111111111111111,
           "#46039f"
          ],
          [
           0.2222222222222222,
           "#7201a8"
          ],
          [
           0.3333333333333333,
           "#9c179e"
          ],
          [
           0.4444444444444444,
           "#bd3786"
          ],
          [
           0.5555555555555556,
           "#d8576b"
          ],
          [
           0.6666666666666666,
           "#ed7953"
          ],
          [
           0.7777777777777778,
           "#fb9f3a"
          ],
          [
           0.8888888888888888,
           "#fdca26"
          ],
          [
           1,
           "#f0f921"
          ]
         ]
        },
        "margin": {
         "t": 60
        },
        "template": {
         "data": {
          "bar": [
           {
            "error_x": {
             "color": "#2a3f5f"
            },
            "error_y": {
             "color": "#2a3f5f"
            },
            "marker": {
             "line": {
              "color": "#E5ECF6",
              "width": 0.5
             },
             "pattern": {
              "fillmode": "overlay",
              "size": 10,
              "solidity": 0.2
             }
            },
            "type": "bar"
           }
          ],
          "barpolar": [
           {
            "marker": {
             "line": {
              "color": "#E5ECF6",
              "width": 0.5
             },
             "pattern": {
              "fillmode": "overlay",
              "size": 10,
              "solidity": 0.2
             }
            },
            "type": "barpolar"
           }
          ],
          "carpet": [
           {
            "aaxis": {
             "endlinecolor": "#2a3f5f",
             "gridcolor": "white",
             "linecolor": "white",
             "minorgridcolor": "white",
             "startlinecolor": "#2a3f5f"
            },
            "baxis": {
             "endlinecolor": "#2a3f5f",
             "gridcolor": "white",
             "linecolor": "white",
             "minorgridcolor": "white",
             "startlinecolor": "#2a3f5f"
            },
            "type": "carpet"
           }
          ],
          "choropleth": [
           {
            "colorbar": {
             "outlinewidth": 0,
             "ticks": ""
            },
            "type": "choropleth"
           }
          ],
          "contour": [
           {
            "colorbar": {
             "outlinewidth": 0,
             "ticks": ""
            },
            "colorscale": [
             [
              0,
              "#0d0887"
             ],
             [
              0.1111111111111111,
              "#46039f"
             ],
             [
              0.2222222222222222,
              "#7201a8"
             ],
             [
              0.3333333333333333,
              "#9c179e"
             ],
             [
              0.4444444444444444,
              "#bd3786"
             ],
             [
              0.5555555555555556,
              "#d8576b"
             ],
             [
              0.6666666666666666,
              "#ed7953"
             ],
             [
              0.7777777777777778,
              "#fb9f3a"
             ],
             [
              0.8888888888888888,
              "#fdca26"
             ],
             [
              1,
              "#f0f921"
             ]
            ],
            "type": "contour"
           }
          ],
          "contourcarpet": [
           {
            "colorbar": {
             "outlinewidth": 0,
             "ticks": ""
            },
            "type": "contourcarpet"
           }
          ],
          "heatmap": [
           {
            "colorbar": {
             "outlinewidth": 0,
             "ticks": ""
            },
            "colorscale": [
             [
              0,
              "#0d0887"
             ],
             [
              0.1111111111111111,
              "#46039f"
             ],
             [
              0.2222222222222222,
              "#7201a8"
             ],
             [
              0.3333333333333333,
              "#9c179e"
             ],
             [
              0.4444444444444444,
              "#bd3786"
             ],
             [
              0.5555555555555556,
              "#d8576b"
             ],
             [
              0.6666666666666666,
              "#ed7953"
             ],
             [
              0.7777777777777778,
              "#fb9f3a"
             ],
             [
              0.8888888888888888,
              "#fdca26"
             ],
             [
              1,
              "#f0f921"
             ]
            ],
            "type": "heatmap"
           }
          ],
          "heatmapgl": [
           {
            "colorbar": {
             "outlinewidth": 0,
             "ticks": ""
            },
            "colorscale": [
             [
              0,
              "#0d0887"
             ],
             [
              0.1111111111111111,
              "#46039f"
             ],
             [
              0.2222222222222222,
              "#7201a8"
             ],
             [
              0.3333333333333333,
              "#9c179e"
             ],
             [
              0.4444444444444444,
              "#bd3786"
             ],
             [
              0.5555555555555556,
              "#d8576b"
             ],
             [
              0.6666666666666666,
              "#ed7953"
             ],
             [
              0.7777777777777778,
              "#fb9f3a"
             ],
             [
              0.8888888888888888,
              "#fdca26"
             ],
             [
              1,
              "#f0f921"
             ]
            ],
            "type": "heatmapgl"
           }
          ],
          "histogram": [
           {
            "marker": {
             "pattern": {
              "fillmode": "overlay",
              "size": 10,
              "solidity": 0.2
             }
            },
            "type": "histogram"
           }
          ],
          "histogram2d": [
           {
            "colorbar": {
             "outlinewidth": 0,
             "ticks": ""
            },
            "colorscale": [
             [
              0,
              "#0d0887"
             ],
             [
              0.1111111111111111,
              "#46039f"
             ],
             [
              0.2222222222222222,
              "#7201a8"
             ],
             [
              0.3333333333333333,
              "#9c179e"
             ],
             [
              0.4444444444444444,
              "#bd3786"
             ],
             [
              0.5555555555555556,
              "#d8576b"
             ],
             [
              0.6666666666666666,
              "#ed7953"
             ],
             [
              0.7777777777777778,
              "#fb9f3a"
             ],
             [
              0.8888888888888888,
              "#fdca26"
             ],
             [
              1,
              "#f0f921"
             ]
            ],
            "type": "histogram2d"
           }
          ],
          "histogram2dcontour": [
           {
            "colorbar": {
             "outlinewidth": 0,
             "ticks": ""
            },
            "colorscale": [
             [
              0,
              "#0d0887"
             ],
             [
              0.1111111111111111,
              "#46039f"
             ],
             [
              0.2222222222222222,
              "#7201a8"
             ],
             [
              0.3333333333333333,
              "#9c179e"
             ],
             [
              0.4444444444444444,
              "#bd3786"
             ],
             [
              0.5555555555555556,
              "#d8576b"
             ],
             [
              0.6666666666666666,
              "#ed7953"
             ],
             [
              0.7777777777777778,
              "#fb9f3a"
             ],
             [
              0.8888888888888888,
              "#fdca26"
             ],
             [
              1,
              "#f0f921"
             ]
            ],
            "type": "histogram2dcontour"
           }
          ],
          "mesh3d": [
           {
            "colorbar": {
             "outlinewidth": 0,
             "ticks": ""
            },
            "type": "mesh3d"
           }
          ],
          "parcoords": [
           {
            "line": {
             "colorbar": {
              "outlinewidth": 0,
              "ticks": ""
             }
            },
            "type": "parcoords"
           }
          ],
          "pie": [
           {
            "automargin": true,
            "type": "pie"
           }
          ],
          "scatter": [
           {
            "marker": {
             "colorbar": {
              "outlinewidth": 0,
              "ticks": ""
             }
            },
            "type": "scatter"
           }
          ],
          "scatter3d": [
           {
            "line": {
             "colorbar": {
              "outlinewidth": 0,
              "ticks": ""
             }
            },
            "marker": {
             "colorbar": {
              "outlinewidth": 0,
              "ticks": ""
             }
            },
            "type": "scatter3d"
           }
          ],
          "scattercarpet": [
           {
            "marker": {
             "colorbar": {
              "outlinewidth": 0,
              "ticks": ""
             }
            },
            "type": "scattercarpet"
           }
          ],
          "scattergeo": [
           {
            "marker": {
             "colorbar": {
              "outlinewidth": 0,
              "ticks": ""
             }
            },
            "type": "scattergeo"
           }
          ],
          "scattergl": [
           {
            "marker": {
             "colorbar": {
              "outlinewidth": 0,
              "ticks": ""
             }
            },
            "type": "scattergl"
           }
          ],
          "scattermapbox": [
           {
            "marker": {
             "colorbar": {
              "outlinewidth": 0,
              "ticks": ""
             }
            },
            "type": "scattermapbox"
           }
          ],
          "scatterpolar": [
           {
            "marker": {
             "colorbar": {
              "outlinewidth": 0,
              "ticks": ""
             }
            },
            "type": "scatterpolar"
           }
          ],
          "scatterpolargl": [
           {
            "marker": {
             "colorbar": {
              "outlinewidth": 0,
              "ticks": ""
             }
            },
            "type": "scatterpolargl"
           }
          ],
          "scatterternary": [
           {
            "marker": {
             "colorbar": {
              "outlinewidth": 0,
              "ticks": ""
             }
            },
            "type": "scatterternary"
           }
          ],
          "surface": [
           {
            "colorbar": {
             "outlinewidth": 0,
             "ticks": ""
            },
            "colorscale": [
             [
              0,
              "#0d0887"
             ],
             [
              0.1111111111111111,
              "#46039f"
             ],
             [
              0.2222222222222222,
              "#7201a8"
             ],
             [
              0.3333333333333333,
              "#9c179e"
             ],
             [
              0.4444444444444444,
              "#bd3786"
             ],
             [
              0.5555555555555556,
              "#d8576b"
             ],
             [
              0.6666666666666666,
              "#ed7953"
             ],
             [
              0.7777777777777778,
              "#fb9f3a"
             ],
             [
              0.8888888888888888,
              "#fdca26"
             ],
             [
              1,
              "#f0f921"
             ]
            ],
            "type": "surface"
           }
          ],
          "table": [
           {
            "cells": {
             "fill": {
              "color": "#EBF0F8"
             },
             "line": {
              "color": "white"
             }
            },
            "header": {
             "fill": {
              "color": "#C8D4E3"
             },
             "line": {
              "color": "white"
             }
            },
            "type": "table"
           }
          ]
         },
         "layout": {
          "annotationdefaults": {
           "arrowcolor": "#2a3f5f",
           "arrowhead": 0,
           "arrowwidth": 1
          },
          "autotypenumbers": "strict",
          "coloraxis": {
           "colorbar": {
            "outlinewidth": 0,
            "ticks": ""
           }
          },
          "colorscale": {
           "diverging": [
            [
             0,
             "#8e0152"
            ],
            [
             0.1,
             "#c51b7d"
            ],
            [
             0.2,
             "#de77ae"
            ],
            [
             0.3,
             "#f1b6da"
            ],
            [
             0.4,
             "#fde0ef"
            ],
            [
             0.5,
             "#f7f7f7"
            ],
            [
             0.6,
             "#e6f5d0"
            ],
            [
             0.7,
             "#b8e186"
            ],
            [
             0.8,
             "#7fbc41"
            ],
            [
             0.9,
             "#4d9221"
            ],
            [
             1,
             "#276419"
            ]
           ],
           "sequential": [
            [
             0,
             "#0d0887"
            ],
            [
             0.1111111111111111,
             "#46039f"
            ],
            [
             0.2222222222222222,
             "#7201a8"
            ],
            [
             0.3333333333333333,
             "#9c179e"
            ],
            [
             0.4444444444444444,
             "#bd3786"
            ],
            [
             0.5555555555555556,
             "#d8576b"
            ],
            [
             0.6666666666666666,
             "#ed7953"
            ],
            [
             0.7777777777777778,
             "#fb9f3a"
            ],
            [
             0.8888888888888888,
             "#fdca26"
            ],
            [
             1,
             "#f0f921"
            ]
           ],
           "sequentialminus": [
            [
             0,
             "#0d0887"
            ],
            [
             0.1111111111111111,
             "#46039f"
            ],
            [
             0.2222222222222222,
             "#7201a8"
            ],
            [
             0.3333333333333333,
             "#9c179e"
            ],
            [
             0.4444444444444444,
             "#bd3786"
            ],
            [
             0.5555555555555556,
             "#d8576b"
            ],
            [
             0.6666666666666666,
             "#ed7953"
            ],
            [
             0.7777777777777778,
             "#fb9f3a"
            ],
            [
             0.8888888888888888,
             "#fdca26"
            ],
            [
             1,
             "#f0f921"
            ]
           ]
          },
          "colorway": [
           "#636efa",
           "#EF553B",
           "#00cc96",
           "#ab63fa",
           "#FFA15A",
           "#19d3f3",
           "#FF6692",
           "#B6E880",
           "#FF97FF",
           "#FECB52"
          ],
          "font": {
           "color": "#2a3f5f"
          },
          "geo": {
           "bgcolor": "white",
           "lakecolor": "white",
           "landcolor": "#E5ECF6",
           "showlakes": true,
           "showland": true,
           "subunitcolor": "white"
          },
          "hoverlabel": {
           "align": "left"
          },
          "hovermode": "closest",
          "mapbox": {
           "style": "light"
          },
          "paper_bgcolor": "white",
          "plot_bgcolor": "#E5ECF6",
          "polar": {
           "angularaxis": {
            "gridcolor": "white",
            "linecolor": "white",
            "ticks": ""
           },
           "bgcolor": "#E5ECF6",
           "radialaxis": {
            "gridcolor": "white",
            "linecolor": "white",
            "ticks": ""
           }
          },
          "scene": {
           "xaxis": {
            "backgroundcolor": "#E5ECF6",
            "gridcolor": "white",
            "gridwidth": 2,
            "linecolor": "white",
            "showbackground": true,
            "ticks": "",
            "zerolinecolor": "white"
           },
           "yaxis": {
            "backgroundcolor": "#E5ECF6",
            "gridcolor": "white",
            "gridwidth": 2,
            "linecolor": "white",
            "showbackground": true,
            "ticks": "",
            "zerolinecolor": "white"
           },
           "zaxis": {
            "backgroundcolor": "#E5ECF6",
            "gridcolor": "white",
            "gridwidth": 2,
            "linecolor": "white",
            "showbackground": true,
            "ticks": "",
            "zerolinecolor": "white"
           }
          },
          "shapedefaults": {
           "line": {
            "color": "#2a3f5f"
           }
          },
          "ternary": {
           "aaxis": {
            "gridcolor": "white",
            "linecolor": "white",
            "ticks": ""
           },
           "baxis": {
            "gridcolor": "white",
            "linecolor": "white",
            "ticks": ""
           },
           "bgcolor": "#E5ECF6",
           "caxis": {
            "gridcolor": "white",
            "linecolor": "white",
            "ticks": ""
           }
          },
          "title": {
           "x": 0.05
          },
          "xaxis": {
           "automargin": true,
           "gridcolor": "white",
           "linecolor": "white",
           "ticks": "",
           "title": {
            "standoff": 15
           },
           "zerolinecolor": "white",
           "zerolinewidth": 2
          },
          "yaxis": {
           "automargin": true,
           "gridcolor": "white",
           "linecolor": "white",
           "ticks": "",
           "title": {
            "standoff": 15
           },
           "zerolinecolor": "white",
           "zerolinewidth": 2
          }
         }
        },
        "xaxis": {
         "anchor": "y",
         "constrain": "domain",
         "domain": [
          0,
          1
         ],
         "scaleanchor": "y",
         "title": {
          "text": "Predicted Values"
         }
        },
        "yaxis": {
         "anchor": "x",
         "autorange": "reversed",
         "constrain": "domain",
         "domain": [
          0,
          1
         ],
         "title": {
          "text": "Actual Values"
         }
        }
       }
      },
      "text/html": [
       "<div>                            <div id=\"b210f5a0-b733-42f7-baf0-1bd3014f781f\" class=\"plotly-graph-div\" style=\"height:525px; width:100%;\"></div>            <script type=\"text/javascript\">                require([\"plotly\"], function(Plotly) {                    window.PLOTLYENV=window.PLOTLYENV || {};                                    if (document.getElementById(\"b210f5a0-b733-42f7-baf0-1bd3014f781f\")) {                    Plotly.newPlot(                        \"b210f5a0-b733-42f7-baf0-1bd3014f781f\",                        [{\"coloraxis\":\"coloraxis\",\"name\":\"0\",\"texttemplate\":\"%{z}\",\"x\":[\"Zero\",\"One\",\"Two\"],\"y\":[\"Zero\",\"One\",\"Two\"],\"z\":[[205,368,101],[441,941,242],[207,423,133]],\"type\":\"heatmap\",\"xaxis\":\"x\",\"yaxis\":\"y\",\"hovertemplate\":\"Predicted Values: %{x}<br>Actual Values: %{y}<br>color: %{z}<extra></extra>\"}],                        {\"template\":{\"data\":{\"bar\":[{\"error_x\":{\"color\":\"#2a3f5f\"},\"error_y\":{\"color\":\"#2a3f5f\"},\"marker\":{\"line\":{\"color\":\"#E5ECF6\",\"width\":0.5},\"pattern\":{\"fillmode\":\"overlay\",\"size\":10,\"solidity\":0.2}},\"type\":\"bar\"}],\"barpolar\":[{\"marker\":{\"line\":{\"color\":\"#E5ECF6\",\"width\":0.5},\"pattern\":{\"fillmode\":\"overlay\",\"size\":10,\"solidity\":0.2}},\"type\":\"barpolar\"}],\"carpet\":[{\"aaxis\":{\"endlinecolor\":\"#2a3f5f\",\"gridcolor\":\"white\",\"linecolor\":\"white\",\"minorgridcolor\":\"white\",\"startlinecolor\":\"#2a3f5f\"},\"baxis\":{\"endlinecolor\":\"#2a3f5f\",\"gridcolor\":\"white\",\"linecolor\":\"white\",\"minorgridcolor\":\"white\",\"startlinecolor\":\"#2a3f5f\"},\"type\":\"carpet\"}],\"choropleth\":[{\"colorbar\":{\"outlinewidth\":0,\"ticks\":\"\"},\"type\":\"choropleth\"}],\"contour\":[{\"colorbar\":{\"outlinewidth\":0,\"ticks\":\"\"},\"colorscale\":[[0.0,\"#0d0887\"],[0.1111111111111111,\"#46039f\"],[0.2222222222222222,\"#7201a8\"],[0.3333333333333333,\"#9c179e\"],[0.4444444444444444,\"#bd3786\"],[0.5555555555555556,\"#d8576b\"],[0.6666666666666666,\"#ed7953\"],[0.7777777777777778,\"#fb9f3a\"],[0.8888888888888888,\"#fdca26\"],[1.0,\"#f0f921\"]],\"type\":\"contour\"}],\"contourcarpet\":[{\"colorbar\":{\"outlinewidth\":0,\"ticks\":\"\"},\"type\":\"contourcarpet\"}],\"heatmap\":[{\"colorbar\":{\"outlinewidth\":0,\"ticks\":\"\"},\"colorscale\":[[0.0,\"#0d0887\"],[0.1111111111111111,\"#46039f\"],[0.2222222222222222,\"#7201a8\"],[0.3333333333333333,\"#9c179e\"],[0.4444444444444444,\"#bd3786\"],[0.5555555555555556,\"#d8576b\"],[0.6666666666666666,\"#ed7953\"],[0.7777777777777778,\"#fb9f3a\"],[0.8888888888888888,\"#fdca26\"],[1.0,\"#f0f921\"]],\"type\":\"heatmap\"}],\"heatmapgl\":[{\"colorbar\":{\"outlinewidth\":0,\"ticks\":\"\"},\"colorscale\":[[0.0,\"#0d0887\"],[0.1111111111111111,\"#46039f\"],[0.2222222222222222,\"#7201a8\"],[0.3333333333333333,\"#9c179e\"],[0.4444444444444444,\"#bd3786\"],[0.5555555555555556,\"#d8576b\"],[0.6666666666666666,\"#ed7953\"],[0.7777777777777778,\"#fb9f3a\"],[0.8888888888888888,\"#fdca26\"],[1.0,\"#f0f921\"]],\"type\":\"heatmapgl\"}],\"histogram\":[{\"marker\":{\"pattern\":{\"fillmode\":\"overlay\",\"size\":10,\"solidity\":0.2}},\"type\":\"histogram\"}],\"histogram2d\":[{\"colorbar\":{\"outlinewidth\":0,\"ticks\":\"\"},\"colorscale\":[[0.0,\"#0d0887\"],[0.1111111111111111,\"#46039f\"],[0.2222222222222222,\"#7201a8\"],[0.3333333333333333,\"#9c179e\"],[0.4444444444444444,\"#bd3786\"],[0.5555555555555556,\"#d8576b\"],[0.6666666666666666,\"#ed7953\"],[0.7777777777777778,\"#fb9f3a\"],[0.8888888888888888,\"#fdca26\"],[1.0,\"#f0f921\"]],\"type\":\"histogram2d\"}],\"histogram2dcontour\":[{\"colorbar\":{\"outlinewidth\":0,\"ticks\":\"\"},\"colorscale\":[[0.0,\"#0d0887\"],[0.1111111111111111,\"#46039f\"],[0.2222222222222222,\"#7201a8\"],[0.3333333333333333,\"#9c179e\"],[0.4444444444444444,\"#bd3786\"],[0.5555555555555556,\"#d8576b\"],[0.6666666666666666,\"#ed7953\"],[0.7777777777777778,\"#fb9f3a\"],[0.8888888888888888,\"#fdca26\"],[1.0,\"#f0f921\"]],\"type\":\"histogram2dcontour\"}],\"mesh3d\":[{\"colorbar\":{\"outlinewidth\":0,\"ticks\":\"\"},\"type\":\"mesh3d\"}],\"parcoords\":[{\"line\":{\"colorbar\":{\"outlinewidth\":0,\"ticks\":\"\"}},\"type\":\"parcoords\"}],\"pie\":[{\"automargin\":true,\"type\":\"pie\"}],\"scatter\":[{\"marker\":{\"colorbar\":{\"outlinewidth\":0,\"ticks\":\"\"}},\"type\":\"scatter\"}],\"scatter3d\":[{\"line\":{\"colorbar\":{\"outlinewidth\":0,\"ticks\":\"\"}},\"marker\":{\"colorbar\":{\"outlinewidth\":0,\"ticks\":\"\"}},\"type\":\"scatter3d\"}],\"scattercarpet\":[{\"marker\":{\"colorbar\":{\"outlinewidth\":0,\"ticks\":\"\"}},\"type\":\"scattercarpet\"}],\"scattergeo\":[{\"marker\":{\"colorbar\":{\"outlinewidth\":0,\"ticks\":\"\"}},\"type\":\"scattergeo\"}],\"scattergl\":[{\"marker\":{\"colorbar\":{\"outlinewidth\":0,\"ticks\":\"\"}},\"type\":\"scattergl\"}],\"scattermapbox\":[{\"marker\":{\"colorbar\":{\"outlinewidth\":0,\"ticks\":\"\"}},\"type\":\"scattermapbox\"}],\"scatterpolar\":[{\"marker\":{\"colorbar\":{\"outlinewidth\":0,\"ticks\":\"\"}},\"type\":\"scatterpolar\"}],\"scatterpolargl\":[{\"marker\":{\"colorbar\":{\"outlinewidth\":0,\"ticks\":\"\"}},\"type\":\"scatterpolargl\"}],\"scatterternary\":[{\"marker\":{\"colorbar\":{\"outlinewidth\":0,\"ticks\":\"\"}},\"type\":\"scatterternary\"}],\"surface\":[{\"colorbar\":{\"outlinewidth\":0,\"ticks\":\"\"},\"colorscale\":[[0.0,\"#0d0887\"],[0.1111111111111111,\"#46039f\"],[0.2222222222222222,\"#7201a8\"],[0.3333333333333333,\"#9c179e\"],[0.4444444444444444,\"#bd3786\"],[0.5555555555555556,\"#d8576b\"],[0.6666666666666666,\"#ed7953\"],[0.7777777777777778,\"#fb9f3a\"],[0.8888888888888888,\"#fdca26\"],[1.0,\"#f0f921\"]],\"type\":\"surface\"}],\"table\":[{\"cells\":{\"fill\":{\"color\":\"#EBF0F8\"},\"line\":{\"color\":\"white\"}},\"header\":{\"fill\":{\"color\":\"#C8D4E3\"},\"line\":{\"color\":\"white\"}},\"type\":\"table\"}]},\"layout\":{\"annotationdefaults\":{\"arrowcolor\":\"#2a3f5f\",\"arrowhead\":0,\"arrowwidth\":1},\"autotypenumbers\":\"strict\",\"coloraxis\":{\"colorbar\":{\"outlinewidth\":0,\"ticks\":\"\"}},\"colorscale\":{\"diverging\":[[0,\"#8e0152\"],[0.1,\"#c51b7d\"],[0.2,\"#de77ae\"],[0.3,\"#f1b6da\"],[0.4,\"#fde0ef\"],[0.5,\"#f7f7f7\"],[0.6,\"#e6f5d0\"],[0.7,\"#b8e186\"],[0.8,\"#7fbc41\"],[0.9,\"#4d9221\"],[1,\"#276419\"]],\"sequential\":[[0.0,\"#0d0887\"],[0.1111111111111111,\"#46039f\"],[0.2222222222222222,\"#7201a8\"],[0.3333333333333333,\"#9c179e\"],[0.4444444444444444,\"#bd3786\"],[0.5555555555555556,\"#d8576b\"],[0.6666666666666666,\"#ed7953\"],[0.7777777777777778,\"#fb9f3a\"],[0.8888888888888888,\"#fdca26\"],[1.0,\"#f0f921\"]],\"sequentialminus\":[[0.0,\"#0d0887\"],[0.1111111111111111,\"#46039f\"],[0.2222222222222222,\"#7201a8\"],[0.3333333333333333,\"#9c179e\"],[0.4444444444444444,\"#bd3786\"],[0.5555555555555556,\"#d8576b\"],[0.6666666666666666,\"#ed7953\"],[0.7777777777777778,\"#fb9f3a\"],[0.8888888888888888,\"#fdca26\"],[1.0,\"#f0f921\"]]},\"colorway\":[\"#636efa\",\"#EF553B\",\"#00cc96\",\"#ab63fa\",\"#FFA15A\",\"#19d3f3\",\"#FF6692\",\"#B6E880\",\"#FF97FF\",\"#FECB52\"],\"font\":{\"color\":\"#2a3f5f\"},\"geo\":{\"bgcolor\":\"white\",\"lakecolor\":\"white\",\"landcolor\":\"#E5ECF6\",\"showlakes\":true,\"showland\":true,\"subunitcolor\":\"white\"},\"hoverlabel\":{\"align\":\"left\"},\"hovermode\":\"closest\",\"mapbox\":{\"style\":\"light\"},\"paper_bgcolor\":\"white\",\"plot_bgcolor\":\"#E5ECF6\",\"polar\":{\"angularaxis\":{\"gridcolor\":\"white\",\"linecolor\":\"white\",\"ticks\":\"\"},\"bgcolor\":\"#E5ECF6\",\"radialaxis\":{\"gridcolor\":\"white\",\"linecolor\":\"white\",\"ticks\":\"\"}},\"scene\":{\"xaxis\":{\"backgroundcolor\":\"#E5ECF6\",\"gridcolor\":\"white\",\"gridwidth\":2,\"linecolor\":\"white\",\"showbackground\":true,\"ticks\":\"\",\"zerolinecolor\":\"white\"},\"yaxis\":{\"backgroundcolor\":\"#E5ECF6\",\"gridcolor\":\"white\",\"gridwidth\":2,\"linecolor\":\"white\",\"showbackground\":true,\"ticks\":\"\",\"zerolinecolor\":\"white\"},\"zaxis\":{\"backgroundcolor\":\"#E5ECF6\",\"gridcolor\":\"white\",\"gridwidth\":2,\"linecolor\":\"white\",\"showbackground\":true,\"ticks\":\"\",\"zerolinecolor\":\"white\"}},\"shapedefaults\":{\"line\":{\"color\":\"#2a3f5f\"}},\"ternary\":{\"aaxis\":{\"gridcolor\":\"white\",\"linecolor\":\"white\",\"ticks\":\"\"},\"baxis\":{\"gridcolor\":\"white\",\"linecolor\":\"white\",\"ticks\":\"\"},\"bgcolor\":\"#E5ECF6\",\"caxis\":{\"gridcolor\":\"white\",\"linecolor\":\"white\",\"ticks\":\"\"}},\"title\":{\"x\":0.05},\"xaxis\":{\"automargin\":true,\"gridcolor\":\"white\",\"linecolor\":\"white\",\"ticks\":\"\",\"title\":{\"standoff\":15},\"zerolinecolor\":\"white\",\"zerolinewidth\":2},\"yaxis\":{\"automargin\":true,\"gridcolor\":\"white\",\"linecolor\":\"white\",\"ticks\":\"\",\"title\":{\"standoff\":15},\"zerolinecolor\":\"white\",\"zerolinewidth\":2}}},\"xaxis\":{\"anchor\":\"y\",\"domain\":[0.0,1.0],\"scaleanchor\":\"y\",\"constrain\":\"domain\",\"title\":{\"text\":\"Predicted Values\"}},\"yaxis\":{\"anchor\":\"x\",\"domain\":[0.0,1.0],\"autorange\":\"reversed\",\"constrain\":\"domain\",\"title\":{\"text\":\"Actual Values\"}},\"coloraxis\":{\"colorscale\":[[0.0,\"#0d0887\"],[0.1111111111111111,\"#46039f\"],[0.2222222222222222,\"#7201a8\"],[0.3333333333333333,\"#9c179e\"],[0.4444444444444444,\"#bd3786\"],[0.5555555555555556,\"#d8576b\"],[0.6666666666666666,\"#ed7953\"],[0.7777777777777778,\"#fb9f3a\"],[0.8888888888888888,\"#fdca26\"],[1.0,\"#f0f921\"]]},\"margin\":{\"t\":60}},                        {\"responsive\": true}                    ).then(function(){\n",
       "                            \n",
       "var gd = document.getElementById('b210f5a0-b733-42f7-baf0-1bd3014f781f');\n",
       "var x = new MutationObserver(function (mutations, observer) {{\n",
       "        var display = window.getComputedStyle(gd).display;\n",
       "        if (!display || display === 'none') {{\n",
       "            console.log([gd, 'removed!']);\n",
       "            Plotly.purge(gd);\n",
       "            observer.disconnect();\n",
       "        }}\n",
       "}});\n",
       "\n",
       "// Listen for the removal of the full notebook cells\n",
       "var notebookContainer = gd.closest('#notebook-container');\n",
       "if (notebookContainer) {{\n",
       "    x.observe(notebookContainer, {childList: true});\n",
       "}}\n",
       "\n",
       "// Listen for the clearing of the current output cell\n",
       "var outputEl = gd.closest('.output');\n",
       "if (outputEl) {{\n",
       "    x.observe(outputEl, {childList: true});\n",
       "}}\n",
       "\n",
       "                        })                };                });            </script>        </div>"
      ]
     },
     "metadata": {},
     "output_type": "display_data"
    }
   ],
   "source": [
    "import plotly.express as px\n",
    "x = ['Down', 'Neutral', 'Up']\n",
    "y = ['Down', 'Neutral', 'Up']\n",
    "fig = px.imshow(confusion_matrix(y_test, knn.predict(X_test)), \n",
    "                x=x, \n",
    "                y=y,\n",
    "                labels=dict(x=\"Predicted Values\", y=\"Actual Values\"),\n",
    "                text_auto=True)\n",
    "fig.show()"
   ]
  },
  {
   "cell_type": "code",
   "execution_count": 67,
   "id": "64aec561",
   "metadata": {},
   "outputs": [
    {
     "data": {
      "text/html": [
       "<div>\n",
       "<style scoped>\n",
       "    .dataframe tbody tr th:only-of-type {\n",
       "        vertical-align: middle;\n",
       "    }\n",
       "\n",
       "    .dataframe tbody tr th {\n",
       "        vertical-align: top;\n",
       "    }\n",
       "\n",
       "    .dataframe thead th {\n",
       "        text-align: right;\n",
       "    }\n",
       "</style>\n",
       "<table border=\"1\" class=\"dataframe\">\n",
       "  <thead>\n",
       "    <tr style=\"text-align: right;\">\n",
       "      <th></th>\n",
       "      <th>Metric</th>\n",
       "      <th>Down</th>\n",
       "      <th>Neutral</th>\n",
       "      <th>Up</th>\n",
       "    </tr>\n",
       "  </thead>\n",
       "  <tbody>\n",
       "    <tr>\n",
       "      <th>0</th>\n",
       "      <td>precision</td>\n",
       "      <td>0.240</td>\n",
       "      <td>0.543</td>\n",
       "      <td>0.279</td>\n",
       "    </tr>\n",
       "    <tr>\n",
       "      <th>1</th>\n",
       "      <td>recall</td>\n",
       "      <td>0.304</td>\n",
       "      <td>0.579</td>\n",
       "      <td>0.174</td>\n",
       "    </tr>\n",
       "    <tr>\n",
       "      <th>2</th>\n",
       "      <td>f1-score</td>\n",
       "      <td>0.269</td>\n",
       "      <td>0.561</td>\n",
       "      <td>0.215</td>\n",
       "    </tr>\n",
       "    <tr>\n",
       "      <th>3</th>\n",
       "      <td>support</td>\n",
       "      <td>674.000</td>\n",
       "      <td>1624.000</td>\n",
       "      <td>763.000</td>\n",
       "    </tr>\n",
       "    <tr>\n",
       "      <th>4</th>\n",
       "      <td>accuracy</td>\n",
       "      <td>0.418</td>\n",
       "      <td>0.418</td>\n",
       "      <td>0.418</td>\n",
       "    </tr>\n",
       "    <tr>\n",
       "      <th>5</th>\n",
       "      <td>macro avg</td>\n",
       "      <td>0.354</td>\n",
       "      <td>0.353</td>\n",
       "      <td>0.348</td>\n",
       "    </tr>\n",
       "    <tr>\n",
       "      <th>6</th>\n",
       "      <td>weighted avg</td>\n",
       "      <td>0.411</td>\n",
       "      <td>0.418</td>\n",
       "      <td>0.410</td>\n",
       "    </tr>\n",
       "  </tbody>\n",
       "</table>\n",
       "</div>"
      ],
      "text/plain": [
       "         Metric     Down   Neutral       Up\n",
       "0     precision    0.240     0.543    0.279\n",
       "1        recall    0.304     0.579    0.174\n",
       "2      f1-score    0.269     0.561    0.215\n",
       "3       support  674.000  1624.000  763.000\n",
       "4      accuracy    0.418     0.418    0.418\n",
       "5     macro avg    0.354     0.353    0.348\n",
       "6  weighted avg    0.411     0.418    0.410"
      ]
     },
     "execution_count": 67,
     "metadata": {},
     "output_type": "execute_result"
    }
   ],
   "source": [
    "#### Classification Report\n",
    "\n",
    "report = classification_report(y_test, knn.predict(X_test), target_names=['Down', 'Neutral', 'Up'], output_dict=True)\n",
    "df1 = pd.DataFrame.from_dict(report)[['Down', 'Neutral','Up']]\n",
    "df1\n",
    "\n",
    "df2 = pd.DataFrame.from_dict(report)[['accuracy', 'macro avg','weighted avg']] \\\n",
    "        .reset_index(drop=True) \\\n",
    "        .transpose() \\\n",
    "        .drop(columns=3) \\\n",
    "        .rename(columns={0:'Down', 1:'Neutral', 2:'Up'})\n",
    "\n",
    "df2\n",
    "\n",
    "final_report = pd.concat([df1, df2])\n",
    "\n",
    "for i in final_report.columns:\n",
    "    final_report[i] = final_report[i].round(3)\n",
    "\n",
    "final_report = final_report.reset_index().rename(columns={'index':'Metric'})\n",
    "\n",
    "final_report"
   ]
  },
  {
   "cell_type": "code",
   "execution_count": 25,
   "id": "bf5e7f36",
   "metadata": {},
   "outputs": [
    {
     "ename": "FileNotFoundError",
     "evalue": "[Errno 2] No such file or directory: \"/Users/bikramgill/Library/CloudStorage/GoogleDrive-bgill@sandiego.edu/My Drive/Masters of Applied Data Sciences/2022 - 3 - Fall/ADS599 - Capstone Project/Tradebot/ML_Tradebot/Production/Models/<_io.BufferedReader name='/Users/bikramgill/Library/CloudStorage/GoogleDrive-bgill@sandiego.edu/My Drive/Masters of Applied Data Sciences/2022 - 3 - Fall/ADS599 - Capstone Project/Tradebot/ML_Tradebot/Production/Models/KNN/KNN_BTCUSDT_1h.pickle'>/KNN_BTCUSDT_1h.pickle\"",
     "output_type": "error",
     "traceback": [
      "\u001b[0;31m---------------------------------------------------------------------------\u001b[0m",
      "\u001b[0;31mFileNotFoundError\u001b[0m                         Traceback (most recent call last)",
      "\u001b[0;32m/var/folders/7w/q4x22cwn3zxb53k5sll6nzf40000gn/T/ipykernel_2592/804766199.py\u001b[0m in \u001b[0;36m<module>\u001b[0;34m\u001b[0m\n\u001b[1;32m     16\u001b[0m \u001b[0mknn\u001b[0m \u001b[0;34m=\u001b[0m \u001b[0mKNeighborsClassifier\u001b[0m\u001b[0;34m(\u001b[0m\u001b[0mn_neighbors\u001b[0m\u001b[0;34m=\u001b[0m\u001b[0mn_neighbors\u001b[0m\u001b[0;34m)\u001b[0m\u001b[0;34m.\u001b[0m\u001b[0mfit\u001b[0m\u001b[0;34m(\u001b[0m\u001b[0mX_train\u001b[0m\u001b[0;34m,\u001b[0m \u001b[0my_train\u001b[0m\u001b[0;34m)\u001b[0m\u001b[0;34m\u001b[0m\u001b[0;34m\u001b[0m\u001b[0m\n\u001b[1;32m     17\u001b[0m \u001b[0;34m\u001b[0m\u001b[0m\n\u001b[0;32m---> 18\u001b[0;31m \u001b[0;32mwith\u001b[0m \u001b[0mopen\u001b[0m\u001b[0;34m(\u001b[0m\u001b[0;34m(\u001b[0m\u001b[0mfilepath\u001b[0m \u001b[0;34m+\u001b[0m \u001b[0;34m'Models/{}/KNN_{}_{}.pickle'\u001b[0m\u001b[0;34m.\u001b[0m\u001b[0mformat\u001b[0m\u001b[0;34m(\u001b[0m\u001b[0mmodel\u001b[0m\u001b[0;34m,\u001b[0m \u001b[0msymbol\u001b[0m\u001b[0;34m,\u001b[0m \u001b[0minterval\u001b[0m\u001b[0;34m)\u001b[0m\u001b[0;34m)\u001b[0m\u001b[0;34m,\u001b[0m \u001b[0;34m'wb'\u001b[0m\u001b[0;34m)\u001b[0m \u001b[0;32mas\u001b[0m \u001b[0mmodel\u001b[0m\u001b[0;34m:\u001b[0m\u001b[0;34m\u001b[0m\u001b[0;34m\u001b[0m\u001b[0m\n\u001b[0m\u001b[1;32m     19\u001b[0m     \u001b[0mpickle\u001b[0m\u001b[0;34m.\u001b[0m\u001b[0mdump\u001b[0m\u001b[0;34m(\u001b[0m\u001b[0mknn\u001b[0m\u001b[0;34m,\u001b[0m \u001b[0mmodel\u001b[0m\u001b[0;34m,\u001b[0m \u001b[0mprotocol\u001b[0m\u001b[0;34m=\u001b[0m\u001b[0mpickle\u001b[0m\u001b[0;34m.\u001b[0m\u001b[0mHIGHEST_PROTOCOL\u001b[0m\u001b[0;34m)\u001b[0m\u001b[0;34m\u001b[0m\u001b[0;34m\u001b[0m\u001b[0m\n",
      "\u001b[0;31mFileNotFoundError\u001b[0m: [Errno 2] No such file or directory: \"/Users/bikramgill/Library/CloudStorage/GoogleDrive-bgill@sandiego.edu/My Drive/Masters of Applied Data Sciences/2022 - 3 - Fall/ADS599 - Capstone Project/Tradebot/ML_Tradebot/Production/Models/<_io.BufferedReader name='/Users/bikramgill/Library/CloudStorage/GoogleDrive-bgill@sandiego.edu/My Drive/Masters of Applied Data Sciences/2022 - 3 - Fall/ADS599 - Capstone Project/Tradebot/ML_Tradebot/Production/Models/KNN/KNN_BTCUSDT_1h.pickle'>/KNN_BTCUSDT_1h.pickle\""
     ]
    }
   ],
   "source": [
    "results = []\n",
    "\n",
    "for n_neighbors in range(1, 20):\n",
    "    knn = KNeighborsClassifier(n_neighbors=n_neighbors).fit(X_train, y_train)\n",
    "    preds = knn.predict(X_test)\n",
    "    results.append({'n_neighbors': n_neighbors,\n",
    "                    'accuracy': accuracy_score(y_test, preds),\n",
    "                    'F1':f1_score(y_test, preds, average='macro')\n",
    "                    })\n",
    "# Convert results to a pandas data frame results = pd.DataFrame(results) print(results)\n",
    "results = pd.DataFrame(results)\n",
    "results = results.sort_values(by='F1', ascending=False)\n",
    "\n",
    "n_neighbors = int(results.loc[results['F1'].idxmax()]['n_neighbors'])\n",
    "\n",
    "knn = KNeighborsClassifier(n_neighbors=n_neighbors).fit(X_train, y_train)\n",
    "\n",
    "with open((filepath + 'Models/{}/KNN_{}_{}.pickle'.format(model, symbol, interval)), 'wb') as model:\n",
    "    pickle.dump(knn, model, protocol=pickle.HIGHEST_PROTOCOL)"
   ]
  },
  {
   "cell_type": "code",
   "execution_count": null,
   "id": "f1547c66",
   "metadata": {},
   "outputs": [],
   "source": []
  },
  {
   "cell_type": "code",
   "execution_count": 76,
   "id": "5f5ac238",
   "metadata": {},
   "outputs": [
    {
     "data": {
      "text/html": [
       "<div>\n",
       "<style scoped>\n",
       "    .dataframe tbody tr th:only-of-type {\n",
       "        vertical-align: middle;\n",
       "    }\n",
       "\n",
       "    .dataframe tbody tr th {\n",
       "        vertical-align: top;\n",
       "    }\n",
       "\n",
       "    .dataframe thead th {\n",
       "        text-align: right;\n",
       "    }\n",
       "</style>\n",
       "<table border=\"1\" class=\"dataframe\">\n",
       "  <thead>\n",
       "    <tr style=\"text-align: right;\">\n",
       "      <th></th>\n",
       "      <th>close_time</th>\n",
       "      <th>open</th>\n",
       "      <th>high</th>\n",
       "      <th>low</th>\n",
       "      <th>close</th>\n",
       "      <th>volume</th>\n",
       "      <th>trade_count</th>\n",
       "      <th>SMA50</th>\n",
       "      <th>SMA100</th>\n",
       "      <th>SMA200</th>\n",
       "      <th>RSI</th>\n",
       "      <th>Close_to_Open</th>\n",
       "      <th>Close_to_High</th>\n",
       "      <th>Close_to_Low</th>\n",
       "      <th>Volume_Momentum</th>\n",
       "      <th>Trade_Count_Momentum</th>\n",
       "      <th>next_two_candles</th>\n",
       "    </tr>\n",
       "  </thead>\n",
       "  <tbody>\n",
       "    <tr>\n",
       "      <th>0</th>\n",
       "      <td>2017-09-19 10:59:59.999</td>\n",
       "      <td>3969.32</td>\n",
       "      <td>4029.99</td>\n",
       "      <td>3901.02</td>\n",
       "      <td>3965.01</td>\n",
       "      <td>171.194272</td>\n",
       "      <td>1315</td>\n",
       "      <td>1.037321</td>\n",
       "      <td>0.969071</td>\n",
       "      <td>0.943709</td>\n",
       "      <td>55.899348</td>\n",
       "      <td>0.998914</td>\n",
       "      <td>0.998914</td>\n",
       "      <td>0.998914</td>\n",
       "      <td>1.023844</td>\n",
       "      <td>1.003740</td>\n",
       "      <td>Neutral</td>\n",
       "    </tr>\n",
       "    <tr>\n",
       "      <th>1</th>\n",
       "      <td>2017-09-19 14:59:59.999</td>\n",
       "      <td>3970.00</td>\n",
       "      <td>4014.56</td>\n",
       "      <td>3871.99</td>\n",
       "      <td>3890.01</td>\n",
       "      <td>122.480176</td>\n",
       "      <td>1165</td>\n",
       "      <td>1.019308</td>\n",
       "      <td>0.952096</td>\n",
       "      <td>0.926365</td>\n",
       "      <td>52.369536</td>\n",
       "      <td>0.979851</td>\n",
       "      <td>0.979851</td>\n",
       "      <td>0.979851</td>\n",
       "      <td>0.735709</td>\n",
       "      <td>0.896568</td>\n",
       "      <td>Neutral</td>\n",
       "    </tr>\n",
       "    <tr>\n",
       "      <th>2</th>\n",
       "      <td>2017-09-19 18:59:59.999</td>\n",
       "      <td>3890.02</td>\n",
       "      <td>3920.00</td>\n",
       "      <td>3830.91</td>\n",
       "      <td>3910.04</td>\n",
       "      <td>137.784085</td>\n",
       "      <td>1296</td>\n",
       "      <td>1.026392</td>\n",
       "      <td>0.958545</td>\n",
       "      <td>0.931709</td>\n",
       "      <td>53.219142</td>\n",
       "      <td>1.005147</td>\n",
       "      <td>1.005147</td>\n",
       "      <td>1.005147</td>\n",
       "      <td>0.874881</td>\n",
       "      <td>1.025073</td>\n",
       "      <td>Neutral</td>\n",
       "    </tr>\n",
       "    <tr>\n",
       "      <th>3</th>\n",
       "      <td>2017-09-19 22:59:59.999</td>\n",
       "      <td>3910.04</td>\n",
       "      <td>3923.26</td>\n",
       "      <td>3843.00</td>\n",
       "      <td>3875.93</td>\n",
       "      <td>110.321379</td>\n",
       "      <td>1042</td>\n",
       "      <td>1.019077</td>\n",
       "      <td>0.951922</td>\n",
       "      <td>0.924106</td>\n",
       "      <td>51.533341</td>\n",
       "      <td>0.991276</td>\n",
       "      <td>0.991276</td>\n",
       "      <td>0.991276</td>\n",
       "      <td>0.718738</td>\n",
       "      <td>0.832601</td>\n",
       "      <td>Up</td>\n",
       "    </tr>\n",
       "    <tr>\n",
       "      <th>4</th>\n",
       "      <td>2017-09-20 02:59:59.999</td>\n",
       "      <td>3875.91</td>\n",
       "      <td>3988.83</td>\n",
       "      <td>3820.00</td>\n",
       "      <td>3913.89</td>\n",
       "      <td>147.874688</td>\n",
       "      <td>1643</td>\n",
       "      <td>1.030654</td>\n",
       "      <td>0.962597</td>\n",
       "      <td>0.933614</td>\n",
       "      <td>53.306014</td>\n",
       "      <td>1.009799</td>\n",
       "      <td>1.009799</td>\n",
       "      <td>1.009799</td>\n",
       "      <td>1.063211</td>\n",
       "      <td>1.376854</td>\n",
       "      <td>Up</td>\n",
       "    </tr>\n",
       "    <tr>\n",
       "      <th>...</th>\n",
       "      <td>...</td>\n",
       "      <td>...</td>\n",
       "      <td>...</td>\n",
       "      <td>...</td>\n",
       "      <td>...</td>\n",
       "      <td>...</td>\n",
       "      <td>...</td>\n",
       "      <td>...</td>\n",
       "      <td>...</td>\n",
       "      <td>...</td>\n",
       "      <td>...</td>\n",
       "      <td>...</td>\n",
       "      <td>...</td>\n",
       "      <td>...</td>\n",
       "      <td>...</td>\n",
       "      <td>...</td>\n",
       "      <td>...</td>\n",
       "    </tr>\n",
       "    <tr>\n",
       "      <th>11373</th>\n",
       "      <td>2022-12-02 21:59:59.999</td>\n",
       "      <td>17092.66</td>\n",
       "      <td>17638.92</td>\n",
       "      <td>16384.99</td>\n",
       "      <td>17020.82</td>\n",
       "      <td>1313.067600</td>\n",
       "      <td>43474</td>\n",
       "      <td>1.022140</td>\n",
       "      <td>1.028070</td>\n",
       "      <td>0.958858</td>\n",
       "      <td>59.260956</td>\n",
       "      <td>0.995797</td>\n",
       "      <td>0.995797</td>\n",
       "      <td>0.995797</td>\n",
       "      <td>1.013913</td>\n",
       "      <td>1.455104</td>\n",
       "      <td>Down</td>\n",
       "    </tr>\n",
       "    <tr>\n",
       "      <th>11374</th>\n",
       "      <td>2022-12-03 01:59:59.999</td>\n",
       "      <td>17020.93</td>\n",
       "      <td>17638.92</td>\n",
       "      <td>16326.71</td>\n",
       "      <td>16964.95</td>\n",
       "      <td>1236.562768</td>\n",
       "      <td>34658</td>\n",
       "      <td>1.018338</td>\n",
       "      <td>1.024364</td>\n",
       "      <td>0.956659</td>\n",
       "      <td>55.834303</td>\n",
       "      <td>0.996711</td>\n",
       "      <td>0.996711</td>\n",
       "      <td>0.996711</td>\n",
       "      <td>0.989277</td>\n",
       "      <td>1.157520</td>\n",
       "      <td>Neutral</td>\n",
       "    </tr>\n",
       "    <tr>\n",
       "      <th>11375</th>\n",
       "      <td>2022-12-03 05:59:59.999</td>\n",
       "      <td>16964.53</td>\n",
       "      <td>17643.47</td>\n",
       "      <td>16263.14</td>\n",
       "      <td>16944.27</td>\n",
       "      <td>1206.643916</td>\n",
       "      <td>36170</td>\n",
       "      <td>1.016537</td>\n",
       "      <td>1.022876</td>\n",
       "      <td>0.956481</td>\n",
       "      <td>54.576356</td>\n",
       "      <td>0.998806</td>\n",
       "      <td>0.998806</td>\n",
       "      <td>0.998806</td>\n",
       "      <td>0.975392</td>\n",
       "      <td>1.175641</td>\n",
       "      <td>Up</td>\n",
       "    </tr>\n",
       "    <tr>\n",
       "      <th>11376</th>\n",
       "      <td>2022-12-03 09:59:59.999</td>\n",
       "      <td>16944.16</td>\n",
       "      <td>17643.47</td>\n",
       "      <td>16922.63</td>\n",
       "      <td>16960.81</td>\n",
       "      <td>1080.669707</td>\n",
       "      <td>27986</td>\n",
       "      <td>1.016920</td>\n",
       "      <td>1.023690</td>\n",
       "      <td>0.958397</td>\n",
       "      <td>55.441057</td>\n",
       "      <td>1.000983</td>\n",
       "      <td>1.000983</td>\n",
       "      <td>1.000983</td>\n",
       "      <td>0.877257</td>\n",
       "      <td>0.899042</td>\n",
       "      <td>Neutral</td>\n",
       "    </tr>\n",
       "    <tr>\n",
       "      <th>11377</th>\n",
       "      <td>2022-12-03 13:59:59.999</td>\n",
       "      <td>16961.04</td>\n",
       "      <td>16983.16</td>\n",
       "      <td>16499.47</td>\n",
       "      <td>16964.17</td>\n",
       "      <td>914.025833</td>\n",
       "      <td>25447</td>\n",
       "      <td>1.016595</td>\n",
       "      <td>1.023621</td>\n",
       "      <td>0.959614</td>\n",
       "      <td>55.625857</td>\n",
       "      <td>1.000185</td>\n",
       "      <td>1.000185</td>\n",
       "      <td>1.000185</td>\n",
       "      <td>0.770486</td>\n",
       "      <td>0.818906</td>\n",
       "      <td>Neutral</td>\n",
       "    </tr>\n",
       "  </tbody>\n",
       "</table>\n",
       "<p>11378 rows × 17 columns</p>\n",
       "</div>"
      ],
      "text/plain": [
       "                   close_time      open      high       low     close  \\\n",
       "0     2017-09-19 10:59:59.999   3969.32   4029.99   3901.02   3965.01   \n",
       "1     2017-09-19 14:59:59.999   3970.00   4014.56   3871.99   3890.01   \n",
       "2     2017-09-19 18:59:59.999   3890.02   3920.00   3830.91   3910.04   \n",
       "3     2017-09-19 22:59:59.999   3910.04   3923.26   3843.00   3875.93   \n",
       "4     2017-09-20 02:59:59.999   3875.91   3988.83   3820.00   3913.89   \n",
       "...                       ...       ...       ...       ...       ...   \n",
       "11373 2022-12-02 21:59:59.999  17092.66  17638.92  16384.99  17020.82   \n",
       "11374 2022-12-03 01:59:59.999  17020.93  17638.92  16326.71  16964.95   \n",
       "11375 2022-12-03 05:59:59.999  16964.53  17643.47  16263.14  16944.27   \n",
       "11376 2022-12-03 09:59:59.999  16944.16  17643.47  16922.63  16960.81   \n",
       "11377 2022-12-03 13:59:59.999  16961.04  16983.16  16499.47  16964.17   \n",
       "\n",
       "            volume  trade_count     SMA50    SMA100    SMA200        RSI  \\\n",
       "0       171.194272         1315  1.037321  0.969071  0.943709  55.899348   \n",
       "1       122.480176         1165  1.019308  0.952096  0.926365  52.369536   \n",
       "2       137.784085         1296  1.026392  0.958545  0.931709  53.219142   \n",
       "3       110.321379         1042  1.019077  0.951922  0.924106  51.533341   \n",
       "4       147.874688         1643  1.030654  0.962597  0.933614  53.306014   \n",
       "...            ...          ...       ...       ...       ...        ...   \n",
       "11373  1313.067600        43474  1.022140  1.028070  0.958858  59.260956   \n",
       "11374  1236.562768        34658  1.018338  1.024364  0.956659  55.834303   \n",
       "11375  1206.643916        36170  1.016537  1.022876  0.956481  54.576356   \n",
       "11376  1080.669707        27986  1.016920  1.023690  0.958397  55.441057   \n",
       "11377   914.025833        25447  1.016595  1.023621  0.959614  55.625857   \n",
       "\n",
       "       Close_to_Open  Close_to_High  Close_to_Low  Volume_Momentum  \\\n",
       "0           0.998914       0.998914      0.998914         1.023844   \n",
       "1           0.979851       0.979851      0.979851         0.735709   \n",
       "2           1.005147       1.005147      1.005147         0.874881   \n",
       "3           0.991276       0.991276      0.991276         0.718738   \n",
       "4           1.009799       1.009799      1.009799         1.063211   \n",
       "...              ...            ...           ...              ...   \n",
       "11373       0.995797       0.995797      0.995797         1.013913   \n",
       "11374       0.996711       0.996711      0.996711         0.989277   \n",
       "11375       0.998806       0.998806      0.998806         0.975392   \n",
       "11376       1.000983       1.000983      1.000983         0.877257   \n",
       "11377       1.000185       1.000185      1.000185         0.770486   \n",
       "\n",
       "       Trade_Count_Momentum next_two_candles  \n",
       "0                  1.003740          Neutral  \n",
       "1                  0.896568          Neutral  \n",
       "2                  1.025073          Neutral  \n",
       "3                  0.832601               Up  \n",
       "4                  1.376854               Up  \n",
       "...                     ...              ...  \n",
       "11373              1.455104             Down  \n",
       "11374              1.157520          Neutral  \n",
       "11375              1.175641               Up  \n",
       "11376              0.899042          Neutral  \n",
       "11377              0.818906          Neutral  \n",
       "\n",
       "[11378 rows x 17 columns]"
      ]
     },
     "execution_count": 76,
     "metadata": {},
     "output_type": "execute_result"
    }
   ],
   "source": [
    "import os \n",
    "\n",
    "path = r\"/Users/bikramgill/Library/CloudStorage/GoogleDrive-bgill@sandiego.edu/My Drive/Masters of Applied Data Sciences/2022 - 3 - Fall/ADS599 - Capstone Project/Tradebot/ML_Tradebot/Production\"\n",
    "symbol = \"BTCUSDT\"\n",
    "interval = \"4h\"\n",
    "\n",
    "latest_candle_df = pd.read_csv(os.path.join(path, 'Datasets/', symbol + '_' + interval + '.csv'))\n",
    "\n",
    "latest_candle_df['close_time'] = pd.to_datetime(latest_candle_df['close_time'])\n",
    "latest_candle_df"
   ]
  },
  {
   "cell_type": "code",
   "execution_count": 88,
   "id": "d8ab318c",
   "metadata": {},
   "outputs": [
    {
     "data": {
      "text/html": [
       "<div>\n",
       "<style scoped>\n",
       "    .dataframe tbody tr th:only-of-type {\n",
       "        vertical-align: middle;\n",
       "    }\n",
       "\n",
       "    .dataframe tbody tr th {\n",
       "        vertical-align: top;\n",
       "    }\n",
       "\n",
       "    .dataframe thead th {\n",
       "        text-align: right;\n",
       "    }\n",
       "</style>\n",
       "<table border=\"1\" class=\"dataframe\">\n",
       "  <thead>\n",
       "    <tr style=\"text-align: right;\">\n",
       "      <th></th>\n",
       "      <th>close_time</th>\n",
       "      <th>open</th>\n",
       "      <th>high</th>\n",
       "      <th>low</th>\n",
       "      <th>close</th>\n",
       "      <th>volume</th>\n",
       "      <th>trade_count</th>\n",
       "      <th>SMA50</th>\n",
       "      <th>SMA100</th>\n",
       "      <th>SMA200</th>\n",
       "      <th>RSI</th>\n",
       "      <th>Close_to_Open</th>\n",
       "      <th>Close_to_High</th>\n",
       "      <th>Close_to_Low</th>\n",
       "      <th>Volume_Momentum</th>\n",
       "      <th>Trade_Count_Momentum</th>\n",
       "      <th>next_two_candles</th>\n",
       "    </tr>\n",
       "  </thead>\n",
       "  <tbody>\n",
       "    <tr>\n",
       "      <th>11377</th>\n",
       "      <td>2022-12-03 13:59:59.999</td>\n",
       "      <td>16961.04</td>\n",
       "      <td>16983.16</td>\n",
       "      <td>16499.47</td>\n",
       "      <td>16964.17</td>\n",
       "      <td>914.025833</td>\n",
       "      <td>25447</td>\n",
       "      <td>1.016595</td>\n",
       "      <td>1.023621</td>\n",
       "      <td>0.959614</td>\n",
       "      <td>55.625857</td>\n",
       "      <td>1.000185</td>\n",
       "      <td>1.000185</td>\n",
       "      <td>1.000185</td>\n",
       "      <td>0.770486</td>\n",
       "      <td>0.818906</td>\n",
       "      <td>Neutral</td>\n",
       "    </tr>\n",
       "  </tbody>\n",
       "</table>\n",
       "</div>"
      ],
      "text/plain": [
       "                   close_time      open      high       low     close  \\\n",
       "11377 2022-12-03 13:59:59.999  16961.04  16983.16  16499.47  16964.17   \n",
       "\n",
       "           volume  trade_count     SMA50    SMA100    SMA200        RSI  \\\n",
       "11377  914.025833        25447  1.016595  1.023621  0.959614  55.625857   \n",
       "\n",
       "       Close_to_Open  Close_to_High  Close_to_Low  Volume_Momentum  \\\n",
       "11377       1.000185       1.000185      1.000185         0.770486   \n",
       "\n",
       "       Trade_Count_Momentum next_two_candles  \n",
       "11377              0.818906          Neutral  "
      ]
     },
     "execution_count": 88,
     "metadata": {},
     "output_type": "execute_result"
    }
   ],
   "source": [
    "max_candle_time = latest_candle_df['close_time'].max()\n",
    "max_candle_data = latest_candle_df.loc[latest_candle_df['close_time'] == max_candle_time]\n",
    "\n",
    "max_candle_data"
   ]
  },
  {
   "cell_type": "code",
   "execution_count": 82,
   "id": "20215b2f",
   "metadata": {},
   "outputs": [
    {
     "data": {
      "text/html": [
       "<div>\n",
       "<style scoped>\n",
       "    .dataframe tbody tr th:only-of-type {\n",
       "        vertical-align: middle;\n",
       "    }\n",
       "\n",
       "    .dataframe tbody tr th {\n",
       "        vertical-align: top;\n",
       "    }\n",
       "\n",
       "    .dataframe thead th {\n",
       "        text-align: right;\n",
       "    }\n",
       "</style>\n",
       "<table border=\"1\" class=\"dataframe\">\n",
       "  <thead>\n",
       "    <tr style=\"text-align: right;\">\n",
       "      <th></th>\n",
       "      <th>SMA50</th>\n",
       "      <th>SMA100</th>\n",
       "      <th>SMA200</th>\n",
       "      <th>RSI</th>\n",
       "      <th>Close_to_Open</th>\n",
       "      <th>Close_to_High</th>\n",
       "      <th>Close_to_Low</th>\n",
       "      <th>Volume_Momentum</th>\n",
       "      <th>Trade_Count_Momentum</th>\n",
       "    </tr>\n",
       "  </thead>\n",
       "  <tbody>\n",
       "    <tr>\n",
       "      <th>11377</th>\n",
       "      <td>1.016595</td>\n",
       "      <td>1.023621</td>\n",
       "      <td>0.959614</td>\n",
       "      <td>55.625857</td>\n",
       "      <td>1.000185</td>\n",
       "      <td>1.000185</td>\n",
       "      <td>1.000185</td>\n",
       "      <td>0.770486</td>\n",
       "      <td>0.818906</td>\n",
       "    </tr>\n",
       "  </tbody>\n",
       "</table>\n",
       "</div>"
      ],
      "text/plain": [
       "          SMA50    SMA100    SMA200        RSI  Close_to_Open  Close_to_High  \\\n",
       "11377  1.016595  1.023621  0.959614  55.625857       1.000185       1.000185   \n",
       "\n",
       "       Close_to_Low  Volume_Momentum  Trade_Count_Momentum  \n",
       "11377      1.000185         0.770486              0.818906  "
      ]
     },
     "execution_count": 82,
     "metadata": {},
     "output_type": "execute_result"
    }
   ],
   "source": [
    "feature_cols = ['SMA50', 'SMA100', 'SMA200', 'RSI', 'Close_to_Open', 'Close_to_High', 'Close_to_Low', 'Volume_Momentum', 'Trade_Count_Momentum']\n",
    "max_candle_cols = max_candle_data[feature_cols]\n",
    "\n",
    "max_candle_cols"
   ]
  },
  {
   "cell_type": "code",
   "execution_count": 87,
   "id": "93559486",
   "metadata": {},
   "outputs": [
    {
     "data": {
      "text/plain": [
       "1"
      ]
     },
     "execution_count": 87,
     "metadata": {},
     "output_type": "execute_result"
    }
   ],
   "source": [
    "prediction_val = int(xg_boost.predict(max_candle_cols))\n",
    "prediction_val"
   ]
  },
  {
   "cell_type": "code",
   "execution_count": null,
   "id": "823e8f90",
   "metadata": {},
   "outputs": [],
   "source": []
  }
 ],
 "metadata": {
  "kernelspec": {
   "display_name": "Python 3 (ipykernel)",
   "language": "python",
   "name": "python3"
  },
  "language_info": {
   "codemirror_mode": {
    "name": "ipython",
    "version": 3
   },
   "file_extension": ".py",
   "mimetype": "text/x-python",
   "name": "python",
   "nbconvert_exporter": "python",
   "pygments_lexer": "ipython3",
   "version": "3.9.6"
  }
 },
 "nbformat": 4,
 "nbformat_minor": 5
}
